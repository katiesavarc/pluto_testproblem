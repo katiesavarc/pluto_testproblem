{
 "cells": [
  {
   "cell_type": "code",
   "execution_count": 66,
   "metadata": {},
   "outputs": [],
   "source": [
    "import matplotlib.pyplot as plt\n",
    "import os\n",
    "import sys\n",
    "sys.path.append(\"/workspaces/pluto_testproblem/PLUTO/Tools/pyPLUTO/\")\n",
    "from pluto_plotting import *\n",
    "from mpl_toolkits.axes_grid1 import make_axes_locatable\n",
    "os.environ[\"PLUTO_DIR\"] = \"/workspaces/pluto_testproblem/PLUTO/\""
   ]
  },
  {
   "cell_type": "code",
   "execution_count": 67,
   "metadata": {},
   "outputs": [],
   "source": [
    "import pyPLUTO as pypl\n",
    "import pyPLUTO.pload as pp"
   ]
  },
  {
   "cell_type": "code",
   "execution_count": 69,
   "metadata": {},
   "outputs": [],
   "source": [
    "system_name = 'jet_tester'\n",
    "data_dir = '/Test_Problems/HD/Jet/data_storage/'\n",
    "#data_dir = '/data_from_oven/'"
   ]
  },
  {
   "cell_type": "code",
   "execution_count": 70,
   "metadata": {},
   "outputs": [
    {
     "name": "stdout",
     "output_type": "stream",
     "text": [
      "Reading multiple variable files : /Users/katiesavard/Desktop/pluto_testproblem/PLUTO/Test_Problems/HD/Jet/data_storage/rho.0000.dbl\n",
      "Reading multiple variable files : /Users/katiesavard/Desktop/pluto_testproblem/PLUTO/Test_Problems/HD/Jet/data_storage/vx1.0000.dbl\n",
      "Reading multiple variable files : /Users/katiesavard/Desktop/pluto_testproblem/PLUTO/Test_Problems/HD/Jet/data_storage/vx2.0000.dbl\n",
      "Reading multiple variable files : /Users/katiesavard/Desktop/pluto_testproblem/PLUTO/Test_Problems/HD/Jet/data_storage/vx3.0000.dbl\n",
      "Reading multiple variable files : /Users/katiesavard/Desktop/pluto_testproblem/PLUTO/Test_Problems/HD/Jet/data_storage/prs.0000.dbl\n"
     ]
    }
   ],
   "source": [
    "i = 1 # timestamp to plot \n",
    "D = load_data_obj(data_dir,i)"
   ]
  },
  {
   "cell_type": "markdown",
   "metadata": {},
   "source": [
    "Plot the density!"
   ]
  },
  {
   "cell_type": "code",
   "execution_count": 71,
   "metadata": {},
   "outputs": [
    {
     "data": {
      "text/plain": [
       "<matplotlib.collections.QuadMesh at 0x7fe2ea5b4220>"
      ]
     },
     "execution_count": 71,
     "metadata": {},
     "output_type": "execute_result"
    },
    {
     "data": {
      "image/png": "[encoded data removed]",
      "text/plain": [
       "<Figure size 216x720 with 1 Axes>"
      ]
     },
     "metadata": {
      "needs_background": "light"
     },
     "output_type": "display_data"
    }
   ],
   "source": [
    "fig, ax = plt.subplots(figsize=[3,10])\n",
    "\n",
    "# this can be vx1, vx2, vx3, rho, prs, or tr1 \n",
    "var = D.rho[:,0,:]\n",
    "\n",
    "p = ax.pcolormesh(D.x1,D.x3,var.T)\n",
    "ax.pcolormesh(-D.x1,D.x3,var.T)"
   ]
  },
  {
   "cell_type": "markdown",
   "metadata": {},
   "source": [
    "Plot the Mach number in the simulation"
   ]
  },
  {
   "cell_type": "code",
   "execution_count": 72,
   "metadata": {},
   "outputs": [
    {
     "data": {
      "image/png": "[encoded data removed]",
      "text/plain": [
       "<Figure size 360x720 with 2 Axes>"
      ]
     },
     "metadata": {
      "needs_background": "light"
     },
     "output_type": "display_data"
    }
   ],
   "source": [
    "vx1 = D.vx1[:,0,:]\n",
    "vx3 = D.vx3[:,0,:]\n",
    "\n",
    "total_vel_sq = np.sqrt((vx1**2)+(vx3**2))\n",
    "adiabatic_index = 4.0/3.0\n",
    "prs = D.prs[:,0,:]\n",
    "rho = D.rho[:,0,:]\n",
    "sound_speed = np.sqrt(adiabatic_index*prs/rho)\n",
    "mach_num = total_vel_sq/sound_speed\n",
    "\n",
    "\n",
    "fig, ax = plt.subplots(figsize=[5,10])\n",
    "\n",
    "\n",
    "p = ax.pcolormesh(D.x1,D.x3,mach_num.T,cmap='seismic',vmin=0,vmax=2)\n",
    "ax.pcolormesh(-D.x1,D.x3,mach_num.T,cmap='seismic',vmin=0,vmax=2)\n",
    "divider = make_axes_locatable(ax)\n",
    "cax1 = divider.append_axes(\"right\", size=\"10%\", pad=0.3)\n",
    "cax1.set_ylim((0,2))\n",
    "c = plt.colorbar(p,cax=cax1)"
   ]
  },
  {
   "cell_type": "code",
   "execution_count": null,
   "metadata": {},
   "outputs": [],
   "source": []
  }
 ],
 "metadata": {
  "kernelspec": {
   "display_name": "Python 3 (ipykernel)",
   "language": "python",
   "name": "python3"
  },
  "language_info": {
   "codemirror_mode": {
    "name": "ipython",
    "version": 3
   },
   "file_extension": ".py",
   "mimetype": "text/x-python",
   "name": "python",
   "nbconvert_exporter": "python",
   "pygments_lexer": "ipython3",
   "version": "3.9.13"
  }
 },
 "nbformat": 4,
 "nbformat_minor": 2
}
